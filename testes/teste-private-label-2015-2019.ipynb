{
 "cells": [
  {
   "cell_type": "code",
   "execution_count": 1,
   "id": "baaa5722",
   "metadata": {
    "_cell_guid": "b1076dfc-b9ad-4769-8c92-a6c4dae69d19",
    "_uuid": "8f2839f25d086af736a60e9eeb907d3b93b6e0e5",
    "execution": {
     "iopub.execute_input": "2022-03-09T14:48:48.318302Z",
     "iopub.status.busy": "2022-03-09T14:48:48.316800Z",
     "iopub.status.idle": "2022-03-09T14:48:54.280201Z",
     "shell.execute_reply": "2022-03-09T14:48:54.279131Z",
     "shell.execute_reply.started": "2022-03-08T00:35:02.091271Z"
    },
    "papermill": {
     "duration": 5.978912,
     "end_time": "2022-03-09T14:48:54.280379",
     "exception": false,
     "start_time": "2022-03-09T14:48:48.301467",
     "status": "completed"
    },
    "tags": []
   },
   "outputs": [],
   "source": [
    "import os\n",
    "import cv2\n",
    "import warnings\n",
    "import numpy as np\n",
    "import pandas as pd\n",
    "from tqdm import tqdm\n",
    "import seaborn as sns\n",
    "import matplotlib.pyplot as plt\n",
    "from sklearn.metrics import confusion_matrix, cohen_kappa_score\n",
    "from keras_preprocessing.image import ImageDataGenerator\n",
    "from keras.callbacks import EarlyStopping\n",
    "from keras.layers import Dense, Dropout, GlobalAveragePooling2D, Input\n",
    "from keras import optimizers, applications\n",
    "from keras.models import Sequential\n",
    "import tensorflow as tf\n",
    "from tensorflow.keras.preprocessing.image import ImageDataGenerator\n",
    "from keras.models import load_model\n",
    "\n",
    "import keras.backend as K\n",
    "\n",
    "%matplotlib inline\n",
    "sns.set(style='whitegrid')\n",
    "warnings.filterwarnings('ignore')"
   ]
  },
  {
   "cell_type": "code",
   "execution_count": 2,
   "id": "872fa83a",
   "metadata": {
    "execution": {
     "iopub.execute_input": "2022-03-09T14:48:54.306826Z",
     "iopub.status.busy": "2022-03-09T14:48:54.306306Z",
     "iopub.status.idle": "2022-03-09T14:48:54.383516Z",
     "shell.execute_reply": "2022-03-09T14:48:54.383971Z",
     "shell.execute_reply.started": "2022-03-08T00:35:33.725625Z"
    },
    "papermill": {
     "duration": 0.091747,
     "end_time": "2022-03-09T14:48:54.384116",
     "exception": false,
     "start_time": "2022-03-09T14:48:54.292369",
     "status": "completed"
    },
    "tags": []
   },
   "outputs": [
    {
     "data": {
      "text/plain": [
       "(53576, 3)"
      ]
     },
     "execution_count": 2,
     "metadata": {},
     "output_type": "execute_result"
    }
   ],
   "source": [
    "test = pd.read_csv('../input/resized-2015-2019-blindness-detection-images/labels/testLabels15.csv')\n",
    "test.shape"
   ]
  },
  {
   "cell_type": "code",
   "execution_count": 3,
   "id": "642e48b0",
   "metadata": {
    "execution": {
     "iopub.execute_input": "2022-03-09T14:48:54.422947Z",
     "iopub.status.busy": "2022-03-09T14:48:54.422356Z",
     "iopub.status.idle": "2022-03-09T14:48:54.429976Z",
     "shell.execute_reply": "2022-03-09T14:48:54.429546Z",
     "shell.execute_reply.started": "2022-03-08T00:36:05.80332Z"
    },
    "papermill": {
     "duration": 0.035046,
     "end_time": "2022-03-09T14:48:54.430148",
     "exception": false,
     "start_time": "2022-03-09T14:48:54.395102",
     "status": "completed"
    },
    "tags": []
   },
   "outputs": [],
   "source": [
    "#select only Private Label\n",
    "test = test[test['Usage'] == 'Private']"
   ]
  },
  {
   "cell_type": "code",
   "execution_count": 4,
   "id": "dee0df6c",
   "metadata": {
    "execution": {
     "iopub.execute_input": "2022-03-09T14:48:54.456064Z",
     "iopub.status.busy": "2022-03-09T14:48:54.455534Z",
     "iopub.status.idle": "2022-03-09T14:48:54.460542Z",
     "shell.execute_reply": "2022-03-09T14:48:54.460053Z",
     "shell.execute_reply.started": "2022-03-08T00:36:14.474611Z"
    },
    "papermill": {
     "duration": 0.019659,
     "end_time": "2022-03-09T14:48:54.460653",
     "exception": false,
     "start_time": "2022-03-09T14:48:54.440994",
     "status": "completed"
    },
    "tags": []
   },
   "outputs": [
    {
     "data": {
      "text/plain": [
       "(42670, 3)"
      ]
     },
     "execution_count": 4,
     "metadata": {},
     "output_type": "execute_result"
    }
   ],
   "source": [
    "test.shape"
   ]
  },
  {
   "cell_type": "code",
   "execution_count": 5,
   "id": "dacd33fe",
   "metadata": {
    "execution": {
     "iopub.execute_input": "2022-03-09T14:48:54.485620Z",
     "iopub.status.busy": "2022-03-09T14:48:54.484845Z",
     "iopub.status.idle": "2022-03-09T14:48:54.501829Z",
     "shell.execute_reply": "2022-03-09T14:48:54.501428Z",
     "shell.execute_reply.started": "2022-03-08T00:36:49.272097Z"
    },
    "papermill": {
     "duration": 0.030234,
     "end_time": "2022-03-09T14:48:54.501959",
     "exception": false,
     "start_time": "2022-03-09T14:48:54.471725",
     "status": "completed"
    },
    "tags": []
   },
   "outputs": [],
   "source": [
    "test['image'] = test['image'].apply(lambda x: x + '.jpg')"
   ]
  },
  {
   "cell_type": "markdown",
   "id": "5336ffe1",
   "metadata": {
    "execution": {
     "iopub.execute_input": "2022-02-22T18:22:41.446819Z",
     "iopub.status.busy": "2022-02-22T18:22:41.44591Z",
     "iopub.status.idle": "2022-02-22T18:22:41.451183Z",
     "shell.execute_reply": "2022-02-22T18:22:41.450679Z",
     "shell.execute_reply.started": "2022-02-22T18:22:41.446778Z"
    },
    "papermill": {
     "duration": 0.01086,
     "end_time": "2022-03-09T14:48:54.524015",
     "exception": false,
     "start_time": "2022-03-09T14:48:54.513155",
     "status": "completed"
    },
    "tags": []
   },
   "source": [
    "### Found imagens in dataset 2015"
   ]
  },
  {
   "cell_type": "code",
   "execution_count": 6,
   "id": "9910f917",
   "metadata": {
    "execution": {
     "iopub.execute_input": "2022-03-09T14:48:54.551373Z",
     "iopub.status.busy": "2022-03-09T14:48:54.549717Z",
     "iopub.status.idle": "2022-03-09T14:51:15.401851Z",
     "shell.execute_reply": "2022-03-09T14:51:15.402470Z",
     "shell.execute_reply.started": "2022-03-08T00:37:11.564978Z"
    },
    "papermill": {
     "duration": 140.867693,
     "end_time": "2022-03-09T14:51:15.402679",
     "exception": false,
     "start_time": "2022-03-09T14:48:54.534986",
     "status": "completed"
    },
    "tags": []
   },
   "outputs": [
    {
     "name": "stdout",
     "output_type": "stream",
     "text": [
      "Found 42670 validated image filenames.\n"
     ]
    }
   ],
   "source": [
    "test_datagen = ImageDataGenerator(rescale=1./255)\n",
    "\n",
    "test_generator = test_datagen.flow_from_dataframe(\n",
    "    dataframe = test,\n",
    "    directory = '../input/resized-2015-2019-blindness-detection-images/resized test 15',\n",
    "    x_col = 'image',\n",
    "    y_col= 'level',\n",
    "    target_size = (512,512),\n",
    "    batch_size = 1,\n",
    "    shuffle = False,\n",
    "    class_mode = None\n",
    ")"
   ]
  },
  {
   "cell_type": "code",
   "execution_count": 7,
   "id": "5031a0b5",
   "metadata": {
    "execution": {
     "iopub.execute_input": "2022-03-09T14:51:15.430544Z",
     "iopub.status.busy": "2022-03-09T14:51:15.429774Z",
     "iopub.status.idle": "2022-03-09T14:51:15.432285Z",
     "shell.execute_reply": "2022-03-09T14:51:15.431822Z",
     "shell.execute_reply.started": "2022-03-08T00:40:09.121175Z"
    },
    "papermill": {
     "duration": 0.017533,
     "end_time": "2022-03-09T14:51:15.432393",
     "exception": false,
     "start_time": "2022-03-09T14:51:15.414860",
     "status": "completed"
    },
    "tags": []
   },
   "outputs": [],
   "source": [
    "step_size = test_generator.n // test_generator.batch_size"
   ]
  },
  {
   "cell_type": "code",
   "execution_count": 8,
   "id": "ba2184b5",
   "metadata": {
    "execution": {
     "iopub.execute_input": "2022-03-09T14:51:15.471835Z",
     "iopub.status.busy": "2022-03-09T14:51:15.470072Z",
     "iopub.status.idle": "2022-03-09T14:51:15.472420Z",
     "shell.execute_reply": "2022-03-09T14:51:15.472804Z",
     "shell.execute_reply.started": "2022-03-08T00:00:26.3675Z"
    },
    "papermill": {
     "duration": 0.029359,
     "end_time": "2022-03-09T14:51:15.472941",
     "exception": false,
     "start_time": "2022-03-09T14:51:15.443582",
     "status": "completed"
    },
    "tags": []
   },
   "outputs": [],
   "source": [
    "def test_models(model_name,models):\n",
    "    \n",
    "    preds_tta0 = []\n",
    "    preds_tta1 = []\n",
    "    preds_tta2 = []\n",
    "    preds_tta3 = []\n",
    "    preds_tta4 = []\n",
    "    preds = []\n",
    "\n",
    "        #model fold 0\n",
    "    test_generator.reset()\n",
    "    preds0 = models[0].predict_generator(generator=test_generator, steps=step_size)\n",
    "    preds_tta0.append(preds0)\n",
    "\n",
    "    #model fold 1\n",
    "    test_generator.reset()\n",
    "    preds1 = models[1].predict_generator(generator=test_generator, steps=step_size)\n",
    "    preds_tta1.append(preds1)\n",
    "\n",
    "        #model fold 2\n",
    "    test_generator.reset()\n",
    "    preds2 = models[2].predict_generator(generator=test_generator, steps=step_size)\n",
    "    preds_tta2.append(preds2)\n",
    "\n",
    "        #model fold 3\n",
    "    test_generator.reset()\n",
    "    preds3 = models[3].predict_generator(generator=test_generator, steps=step_size)\n",
    "    preds_tta3.append(preds3)\n",
    "\n",
    "        #model fold 4\n",
    "    test_generator.reset()\n",
    "    preds4 = models[4].predict_generator(generator=test_generator, steps=step_size)\n",
    "    preds_tta4.append(preds4)\n",
    "    \n",
    "    print('------------------{}---------------------\\n'.format(model_name))\n",
    "\n",
    "    preds0 = sum(preds_tta0)\n",
    "    preds1 = sum(preds_tta1)\n",
    "    preds2 = sum(preds_tta2)\n",
    "    preds3 = sum(preds_tta3)\n",
    "    preds4 = sum(preds_tta4)\n",
    "\n",
    "    filenames = test_generator.filenames\n",
    "    \n",
    "    results=pd.DataFrame({\"id_code\":filenames,\n",
    "                      'level':test.level,\n",
    "                        'pred0':preds0.argmax(axis=1),\n",
    "                        'pred1':preds1.argmax(axis=1),\n",
    "                        'pred2':preds2.argmax(axis=1),\n",
    "                        'pred3':preds3.argmax(axis=1),\n",
    "                        'pred4':preds4.argmax(axis=1)})    \n",
    "\n",
    "    print('FOLD 0: ',np.mean(np.equal(results.pred0, test['level'])))\n",
    "    print('FOLD 1: ',np.mean(np.equal(results.pred1, test['level'])))\n",
    "    print('FOLD 2: ',np.mean(np.equal(results.pred2, test['level'])))\n",
    "    print('FOLD 3: ',np.mean(np.equal(results.pred3, test['level'])))\n",
    "    print('FOLD 4: ',np.mean(np.equal(results.pred4, test['level'])))\n",
    "    \n",
    "    print('ENSEMBLE: ',np.mean(np.equal(results[['pred0','pred1','pred2','pred3','pred4']].mode(axis=1)[0], test['level'])))\n",
    "    print('\\n\\n')\n",
    "    return results"
   ]
  },
  {
   "cell_type": "code",
   "execution_count": 9,
   "id": "26042dd0",
   "metadata": {
    "execution": {
     "iopub.execute_input": "2022-03-09T14:51:15.504032Z",
     "iopub.status.busy": "2022-03-09T14:51:15.503512Z",
     "iopub.status.idle": "2022-03-09T14:54:19.546011Z",
     "shell.execute_reply": "2022-03-09T14:54:19.547222Z"
    },
    "papermill": {
     "duration": 184.063063,
     "end_time": "2022-03-09T14:54:19.547455",
     "exception": false,
     "start_time": "2022-03-09T14:51:15.484392",
     "status": "completed"
    },
    "tags": []
   },
   "outputs": [
    {
     "name": "stderr",
     "output_type": "stream",
     "text": [
      "2022-03-09 14:51:15.729236: I tensorflow/stream_executor/cuda/cuda_gpu_executor.cc:937] successful NUMA node read from SysFS had negative value (-1), but there must be at least one NUMA node, so returning NUMA node zero\n",
      "2022-03-09 14:51:15.836060: I tensorflow/stream_executor/cuda/cuda_gpu_executor.cc:937] successful NUMA node read from SysFS had negative value (-1), but there must be at least one NUMA node, so returning NUMA node zero\n",
      "2022-03-09 14:51:15.836809: I tensorflow/stream_executor/cuda/cuda_gpu_executor.cc:937] successful NUMA node read from SysFS had negative value (-1), but there must be at least one NUMA node, so returning NUMA node zero\n",
      "2022-03-09 14:51:15.837965: I tensorflow/core/platform/cpu_feature_guard.cc:142] This TensorFlow binary is optimized with oneAPI Deep Neural Network Library (oneDNN) to use the following CPU instructions in performance-critical operations:  AVX2 AVX512F FMA\n",
      "To enable them in other operations, rebuild TensorFlow with the appropriate compiler flags.\n",
      "2022-03-09 14:51:15.839215: I tensorflow/stream_executor/cuda/cuda_gpu_executor.cc:937] successful NUMA node read from SysFS had negative value (-1), but there must be at least one NUMA node, so returning NUMA node zero\n",
      "2022-03-09 14:51:15.839895: I tensorflow/stream_executor/cuda/cuda_gpu_executor.cc:937] successful NUMA node read from SysFS had negative value (-1), but there must be at least one NUMA node, so returning NUMA node zero\n",
      "2022-03-09 14:51:15.840515: I tensorflow/stream_executor/cuda/cuda_gpu_executor.cc:937] successful NUMA node read from SysFS had negative value (-1), but there must be at least one NUMA node, so returning NUMA node zero\n",
      "2022-03-09 14:51:17.636637: I tensorflow/stream_executor/cuda/cuda_gpu_executor.cc:937] successful NUMA node read from SysFS had negative value (-1), but there must be at least one NUMA node, so returning NUMA node zero\n",
      "2022-03-09 14:51:17.637436: I tensorflow/stream_executor/cuda/cuda_gpu_executor.cc:937] successful NUMA node read from SysFS had negative value (-1), but there must be at least one NUMA node, so returning NUMA node zero\n",
      "2022-03-09 14:51:17.638146: I tensorflow/stream_executor/cuda/cuda_gpu_executor.cc:937] successful NUMA node read from SysFS had negative value (-1), but there must be at least one NUMA node, so returning NUMA node zero\n",
      "2022-03-09 14:51:17.638742: I tensorflow/core/common_runtime/gpu/gpu_device.cc:1510] Created device /job:localhost/replica:0/task:0/device:GPU:0 with 15403 MB memory:  -> device: 0, name: Tesla P100-PCIE-16GB, pci bus id: 0000:00:04.0, compute capability: 6.0\n"
     ]
    }
   ],
   "source": [
    "#xception\n",
    "xception0 = load_model('../input/models/old+new data/Xception/Xception-f0.h5')\n",
    "xception1 = load_model('../input/models/old+new data/Xception/xcp-f1 2.h5')\n",
    "xception2 = load_model('../input/models/old+new data/Xception/xcp-f1.h5')\n",
    "xception3 = load_model('../input/models/old+new data/Xception/xcp-f3.h5')\n",
    "xception4 = load_model('../input/models/old+new data/Xception/xcp-f4.h5')\n",
    "\n",
    "#inceptionresnetv2\n",
    "inception0 = load_model('../input/models/old+new data/InceptionResNet/InceptionResNetV2-fold0.h5')\n",
    "inception1 = load_model('../input/models/old+new data/InceptionResNet/InceptionResNetV2-fold1.h5')\n",
    "inception2 = load_model('../input/models/old+new data/InceptionResNet/InceptionResNetV2-fold2.h5')\n",
    "inception3 = load_model('../input/models/old+new data/InceptionResNet/InceptionResNetV2-fold3.h5')\n",
    "inception4 = load_model('../input/models/old+new data/InceptionResNet/InceptionResNetV2-fold4.h5')\n",
    "\n",
    "#nasnetmobile\n",
    "nasnet0 = load_model('../input/models/old+new data/NasNetMobile/NASNETMOBILE-f0.h5')\n",
    "nasnet1 = load_model('../input/models/old+new data/NasNetMobile/NASNETMOBILE-f1.h5')\n",
    "nasnet2 = load_model('../input/models/old+new data/NasNetMobile/NASNETMOBILE-f2.h5')\n",
    "nasnet3 = load_model('../input/models/old+new data/NasNetMobile/NASNETMOBILE-f3.h5')\n",
    "nasnet4 = load_model('../input/models/old+new data/NasNetMobile/NASNETMOBILE-f4.h5')\n",
    "\n",
    "#efficientnetb0\n",
    "eff0 = load_model('../input/models/old+new data/EfficientNetB0/effb0-f0.h5')\n",
    "eff1 = load_model('../input/models/old+new data/EfficientNetB0/effb0-f1.h5')\n",
    "eff2 = load_model('../input/models/old+new data/EfficientNetB0/effb0-f2.h5')\n",
    "eff3 = load_model('../input/models/old+new data/EfficientNetB0/effb0-f3.h5')\n",
    "eff4 = load_model('../input/models/old+new data/EfficientNetB0/effb0-f4.h5')"
   ]
  },
  {
   "cell_type": "code",
   "execution_count": 10,
   "id": "5edb093a",
   "metadata": {
    "execution": {
     "iopub.execute_input": "2022-03-09T14:54:19.608777Z",
     "iopub.status.busy": "2022-03-09T14:54:19.607770Z",
     "iopub.status.idle": "2022-03-09T22:29:40.499414Z",
     "shell.execute_reply": "2022-03-09T22:29:40.499830Z"
    },
    "papermill": {
     "duration": 27320.924798,
     "end_time": "2022-03-09T22:29:40.500026",
     "exception": false,
     "start_time": "2022-03-09T14:54:19.575228",
     "status": "completed"
    },
    "tags": []
   },
   "outputs": [
    {
     "name": "stderr",
     "output_type": "stream",
     "text": [
      "2022-03-09 14:54:19.745578: I tensorflow/compiler/mlir/mlir_graph_optimization_pass.cc:185] None of the MLIR Optimization Passes are enabled (registered 2)\n",
      "2022-03-09 14:54:21.203048: I tensorflow/stream_executor/cuda/cuda_dnn.cc:369] Loaded cuDNN version 8005\n"
     ]
    },
    {
     "name": "stdout",
     "output_type": "stream",
     "text": [
      "------------------Xception---------------------\n",
      "\n",
      "FOLD 0:  0.7568314975392547\n",
      "FOLD 1:  0.6027185376142489\n",
      "FOLD 2:  0.6980314037965784\n",
      "FOLD 3:  0.7321771736583079\n",
      "FOLD 4:  0.6955706585423014\n",
      "ENSEMBLE:  0.7344738692289665\n",
      "\n",
      "\n",
      "\n",
      "------------------InceptionResNetV2---------------------\n",
      "\n",
      "FOLD 0:  0.8042418561049918\n",
      "FOLD 1:  0.7981954534801968\n",
      "FOLD 2:  0.7782751347550972\n",
      "FOLD 3:  0.7542067026013592\n",
      "FOLD 4:  0.8204827747832201\n",
      "ENSEMBLE:  0.8156081556128427\n",
      "\n",
      "\n",
      "\n",
      "------------------NasNetMobile---------------------\n",
      "\n",
      "FOLD 0:  0.7974689477384579\n",
      "FOLD 1:  0.8186313569252402\n",
      "FOLD 2:  0.5902038903210687\n",
      "FOLD 3:  0.7478556362784158\n",
      "FOLD 4:  0.8225451136629951\n",
      "ENSEMBLE:  0.8173658307944692\n",
      "\n",
      "\n",
      "\n",
      "------------------EfficientNetB0---------------------\n",
      "\n",
      "FOLD 0:  0.7359503163815327\n",
      "FOLD 1:  0.7359503163815327\n",
      "FOLD 2:  0.7359503163815327\n",
      "FOLD 3:  0.7359503163815327\n",
      "FOLD 4:  0.7359503163815327\n",
      "ENSEMBLE:  0.7359503163815327\n",
      "\n",
      "\n",
      "\n"
     ]
    }
   ],
   "source": [
    "xception = [xception0,xception1,xception2,xception3,xception4]\n",
    "xception = test_models('Xception',xception)\n",
    "\n",
    "inception = [inception0,inception1,inception2,inception3,inception4]\n",
    "inception = test_models('InceptionResNetV2', inception)\n",
    "\n",
    "nasnet = [nasnet0,nasnet1,nasnet2,nasnet3,nasnet4]\n",
    "nasnet = test_models('NasNetMobile', nasnet)\n",
    "\n",
    "eff = [eff0,eff1,eff2,eff3,eff4]\n",
    "eff = test_models('EfficientNetB0', eff)"
   ]
  },
  {
   "cell_type": "code",
   "execution_count": null,
   "id": "0b516d60",
   "metadata": {
    "papermill": {
     "duration": 0.01506,
     "end_time": "2022-03-09T22:29:40.530761",
     "exception": false,
     "start_time": "2022-03-09T22:29:40.515701",
     "status": "completed"
    },
    "tags": []
   },
   "outputs": [],
   "source": []
  }
 ],
 "metadata": {
  "kernelspec": {
   "display_name": "Python 3",
   "language": "python",
   "name": "python3"
  },
  "language_info": {
   "codemirror_mode": {
    "name": "ipython",
    "version": 3
   },
   "file_extension": ".py",
   "mimetype": "text/x-python",
   "name": "python",
   "nbconvert_exporter": "python",
   "pygments_lexer": "ipython3",
   "version": "3.7.12"
  },
  "papermill": {
   "default_parameters": {},
   "duration": 27663.777046,
   "end_time": "2022-03-09T22:29:43.516644",
   "environment_variables": {},
   "exception": null,
   "input_path": "__notebook__.ipynb",
   "output_path": "__notebook__.ipynb",
   "parameters": {},
   "start_time": "2022-03-09T14:48:39.739598",
   "version": "2.3.3"
  }
 },
 "nbformat": 4,
 "nbformat_minor": 5
}
