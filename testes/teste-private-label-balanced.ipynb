{
 "cells": [
  {
   "cell_type": "code",
   "execution_count": 1,
   "id": "20f093e9",
   "metadata": {
    "_cell_guid": "b1076dfc-b9ad-4769-8c92-a6c4dae69d19",
    "_uuid": "8f2839f25d086af736a60e9eeb907d3b93b6e0e5",
    "execution": {
     "iopub.execute_input": "2022-03-09T14:55:49.695081Z",
     "iopub.status.busy": "2022-03-09T14:55:49.693538Z",
     "iopub.status.idle": "2022-03-09T14:55:55.097982Z",
     "shell.execute_reply": "2022-03-09T14:55:55.097270Z",
     "shell.execute_reply.started": "2022-03-08T00:35:02.091271Z"
    },
    "papermill": {
     "duration": 5.42058,
     "end_time": "2022-03-09T14:55:55.098122",
     "exception": false,
     "start_time": "2022-03-09T14:55:49.677542",
     "status": "completed"
    },
    "tags": []
   },
   "outputs": [],
   "source": [
    "import os\n",
    "import cv2\n",
    "import warnings\n",
    "import numpy as np\n",
    "import pandas as pd\n",
    "from tqdm import tqdm\n",
    "import seaborn as sns\n",
    "import matplotlib.pyplot as plt\n",
    "from sklearn.metrics import confusion_matrix, cohen_kappa_score\n",
    "from keras_preprocessing.image import ImageDataGenerator\n",
    "from keras.callbacks import EarlyStopping\n",
    "from keras.layers import Dense, Dropout, GlobalAveragePooling2D, Input\n",
    "from keras import optimizers, applications\n",
    "from keras.models import Sequential\n",
    "import tensorflow as tf\n",
    "from tensorflow.keras.preprocessing.image import ImageDataGenerator\n",
    "from keras.models import load_model\n",
    "\n",
    "import keras.backend as K\n",
    "\n",
    "%matplotlib inline\n",
    "sns.set(style='whitegrid')\n",
    "warnings.filterwarnings('ignore')"
   ]
  },
  {
   "cell_type": "code",
   "execution_count": 2,
   "id": "7ed09174",
   "metadata": {
    "execution": {
     "iopub.execute_input": "2022-03-09T14:55:55.124287Z",
     "iopub.status.busy": "2022-03-09T14:55:55.123725Z",
     "iopub.status.idle": "2022-03-09T14:55:55.192000Z",
     "shell.execute_reply": "2022-03-09T14:55:55.191567Z",
     "shell.execute_reply.started": "2022-03-08T00:35:33.725625Z"
    },
    "papermill": {
     "duration": 0.082458,
     "end_time": "2022-03-09T14:55:55.192117",
     "exception": false,
     "start_time": "2022-03-09T14:55:55.109659",
     "status": "completed"
    },
    "tags": []
   },
   "outputs": [
    {
     "data": {
      "text/plain": [
       "(53576, 3)"
      ]
     },
     "execution_count": 2,
     "metadata": {},
     "output_type": "execute_result"
    }
   ],
   "source": [
    "test = pd.read_csv('../input/resized-2015-2019-blindness-detection-images/labels/testLabels15.csv')\n",
    "test.shape"
   ]
  },
  {
   "cell_type": "code",
   "execution_count": 3,
   "id": "003e4d05",
   "metadata": {
    "execution": {
     "iopub.execute_input": "2022-03-09T14:55:55.229365Z",
     "iopub.status.busy": "2022-03-09T14:55:55.228656Z",
     "iopub.status.idle": "2022-03-09T14:55:55.235060Z",
     "shell.execute_reply": "2022-03-09T14:55:55.235465Z",
     "shell.execute_reply.started": "2022-03-08T00:36:05.80332Z"
    },
    "papermill": {
     "duration": 0.03224,
     "end_time": "2022-03-09T14:55:55.235590",
     "exception": false,
     "start_time": "2022-03-09T14:55:55.203350",
     "status": "completed"
    },
    "tags": []
   },
   "outputs": [],
   "source": [
    "#select only Private Label\n",
    "test = test[test['Usage'] == 'Private']"
   ]
  },
  {
   "cell_type": "code",
   "execution_count": 4,
   "id": "be386911",
   "metadata": {
    "execution": {
     "iopub.execute_input": "2022-03-09T14:55:55.261691Z",
     "iopub.status.busy": "2022-03-09T14:55:55.260616Z",
     "iopub.status.idle": "2022-03-09T14:55:55.263642Z",
     "shell.execute_reply": "2022-03-09T14:55:55.264078Z",
     "shell.execute_reply.started": "2022-03-08T00:36:14.474611Z"
    },
    "papermill": {
     "duration": 0.017996,
     "end_time": "2022-03-09T14:55:55.264189",
     "exception": false,
     "start_time": "2022-03-09T14:55:55.246193",
     "status": "completed"
    },
    "tags": []
   },
   "outputs": [
    {
     "data": {
      "text/plain": [
       "(42670, 3)"
      ]
     },
     "execution_count": 4,
     "metadata": {},
     "output_type": "execute_result"
    }
   ],
   "source": [
    "test.shape"
   ]
  },
  {
   "cell_type": "code",
   "execution_count": 5,
   "id": "b1455b76",
   "metadata": {
    "execution": {
     "iopub.execute_input": "2022-03-09T14:55:55.292839Z",
     "iopub.status.busy": "2022-03-09T14:55:55.292016Z",
     "iopub.status.idle": "2022-03-09T14:55:55.304918Z",
     "shell.execute_reply": "2022-03-09T14:55:55.304489Z",
     "shell.execute_reply.started": "2022-03-08T00:36:49.272097Z"
    },
    "papermill": {
     "duration": 0.029904,
     "end_time": "2022-03-09T14:55:55.305017",
     "exception": false,
     "start_time": "2022-03-09T14:55:55.275113",
     "status": "completed"
    },
    "tags": []
   },
   "outputs": [],
   "source": [
    "test['image'] = test['image'].apply(lambda x: x + '.jpg')"
   ]
  },
  {
   "cell_type": "markdown",
   "id": "da345566",
   "metadata": {
    "execution": {
     "iopub.execute_input": "2022-02-22T18:22:41.446819Z",
     "iopub.status.busy": "2022-02-22T18:22:41.44591Z",
     "iopub.status.idle": "2022-02-22T18:22:41.451183Z",
     "shell.execute_reply": "2022-02-22T18:22:41.450679Z",
     "shell.execute_reply.started": "2022-02-22T18:22:41.446778Z"
    },
    "papermill": {
     "duration": 0.010823,
     "end_time": "2022-03-09T14:55:55.326930",
     "exception": false,
     "start_time": "2022-03-09T14:55:55.316107",
     "status": "completed"
    },
    "tags": []
   },
   "source": [
    "### Found imagens in dataset 2015"
   ]
  },
  {
   "cell_type": "code",
   "execution_count": 6,
   "id": "63c5516f",
   "metadata": {
    "execution": {
     "iopub.execute_input": "2022-03-09T14:55:55.354975Z",
     "iopub.status.busy": "2022-03-09T14:55:55.354022Z",
     "iopub.status.idle": "2022-03-09T14:57:46.943239Z",
     "shell.execute_reply": "2022-03-09T14:57:46.943713Z",
     "shell.execute_reply.started": "2022-03-08T00:37:11.564978Z"
    },
    "papermill": {
     "duration": 111.605739,
     "end_time": "2022-03-09T14:57:46.943872",
     "exception": false,
     "start_time": "2022-03-09T14:55:55.338133",
     "status": "completed"
    },
    "tags": []
   },
   "outputs": [
    {
     "name": "stdout",
     "output_type": "stream",
     "text": [
      "Found 42670 validated image filenames.\n"
     ]
    }
   ],
   "source": [
    "test_datagen = ImageDataGenerator(rescale=1./255)\n",
    "\n",
    "test_generator = test_datagen.flow_from_dataframe(\n",
    "    dataframe = test,\n",
    "    directory = '../input/resized-2015-2019-blindness-detection-images/resized test 15',\n",
    "    x_col = 'image',\n",
    "    y_col= 'level',\n",
    "    target_size = (224,224),\n",
    "    batch_size = 1,\n",
    "    shuffle = False,\n",
    "    class_mode = None\n",
    ")"
   ]
  },
  {
   "cell_type": "code",
   "execution_count": 7,
   "id": "72e99d02",
   "metadata": {
    "execution": {
     "iopub.execute_input": "2022-03-09T14:57:46.971502Z",
     "iopub.status.busy": "2022-03-09T14:57:46.969971Z",
     "iopub.status.idle": "2022-03-09T14:57:46.972148Z",
     "shell.execute_reply": "2022-03-09T14:57:46.972606Z",
     "shell.execute_reply.started": "2022-03-08T00:40:09.121175Z"
    },
    "papermill": {
     "duration": 0.017599,
     "end_time": "2022-03-09T14:57:46.972742",
     "exception": false,
     "start_time": "2022-03-09T14:57:46.955143",
     "status": "completed"
    },
    "tags": []
   },
   "outputs": [],
   "source": [
    "step_size = test_generator.n // test_generator.batch_size"
   ]
  },
  {
   "cell_type": "code",
   "execution_count": 8,
   "id": "ac08e164",
   "metadata": {
    "execution": {
     "iopub.execute_input": "2022-03-09T14:57:47.009058Z",
     "iopub.status.busy": "2022-03-09T14:57:47.008198Z",
     "iopub.status.idle": "2022-03-09T14:57:47.013837Z",
     "shell.execute_reply": "2022-03-09T14:57:47.013418Z",
     "shell.execute_reply.started": "2022-03-08T00:00:26.3675Z"
    },
    "papermill": {
     "duration": 0.029895,
     "end_time": "2022-03-09T14:57:47.013933",
     "exception": false,
     "start_time": "2022-03-09T14:57:46.984038",
     "status": "completed"
    },
    "tags": []
   },
   "outputs": [],
   "source": [
    "def test_models(model_name,models):\n",
    "    \n",
    "    preds_tta0 = []\n",
    "    preds_tta1 = []\n",
    "    preds_tta2 = []\n",
    "    preds_tta3 = []\n",
    "    preds_tta4 = []\n",
    "    preds = []\n",
    "\n",
    "        #model fold 0\n",
    "    test_generator.reset()\n",
    "    preds0 = models[0].predict_generator(generator=test_generator, steps=step_size)\n",
    "    preds_tta0.append(preds0)\n",
    "\n",
    "    #model fold 1\n",
    "    test_generator.reset()\n",
    "    preds1 = models[1].predict_generator(generator=test_generator, steps=step_size)\n",
    "    preds_tta1.append(preds1)\n",
    "\n",
    "        #model fold 2\n",
    "    test_generator.reset()\n",
    "    preds2 = models[2].predict_generator(generator=test_generator, steps=step_size)\n",
    "    preds_tta2.append(preds2)\n",
    "\n",
    "        #model fold 3\n",
    "    test_generator.reset()\n",
    "    preds3 = models[3].predict_generator(generator=test_generator, steps=step_size)\n",
    "    preds_tta3.append(preds3)\n",
    "\n",
    "        #model fold 4\n",
    "    test_generator.reset()\n",
    "    preds4 = models[4].predict_generator(generator=test_generator, steps=step_size)\n",
    "    preds_tta4.append(preds4)\n",
    "    \n",
    "    print('------------------{}---------------------\\n'.format(model_name))\n",
    "\n",
    "    preds0 = sum(preds_tta0)\n",
    "    preds1 = sum(preds_tta1)\n",
    "    preds2 = sum(preds_tta2)\n",
    "    preds3 = sum(preds_tta3)\n",
    "    preds4 = sum(preds_tta4)\n",
    "\n",
    "    filenames = test_generator.filenames\n",
    "    \n",
    "    results=pd.DataFrame({\"id_code\":filenames,\n",
    "                      'level':test.level,\n",
    "                        'pred0':preds0.argmax(axis=1),\n",
    "                        'pred1':preds1.argmax(axis=1),\n",
    "                        'pred2':preds2.argmax(axis=1),\n",
    "                        'pred3':preds3.argmax(axis=1),\n",
    "                        'pred4':preds4.argmax(axis=1)})    \n",
    "\n",
    "    print('FOLD 0: ',np.mean(np.equal(results.pred0, test['level'])))\n",
    "    print('FOLD 1: ',np.mean(np.equal(results.pred1, test['level'])))\n",
    "    print('FOLD 2: ',np.mean(np.equal(results.pred2, test['level'])))\n",
    "    print('FOLD 3: ',np.mean(np.equal(results.pred3, test['level'])))\n",
    "    print('FOLD 4: ',np.mean(np.equal(results.pred4, test['level'])))\n",
    "    \n",
    "    print('ENSEMBLE: ',np.mean(np.equal(results[['pred0','pred1','pred2','pred3','pred4']].mode(axis=1)[0], test['level'])))\n",
    "    print('\\n\\n')\n",
    "    return results"
   ]
  },
  {
   "cell_type": "code",
   "execution_count": 9,
   "id": "bc3e4f59",
   "metadata": {
    "execution": {
     "iopub.execute_input": "2022-03-09T14:57:47.044826Z",
     "iopub.status.busy": "2022-03-09T14:57:47.044318Z",
     "iopub.status.idle": "2022-03-09T15:00:55.824719Z",
     "shell.execute_reply": "2022-03-09T15:00:55.824152Z"
    },
    "papermill": {
     "duration": 188.799678,
     "end_time": "2022-03-09T15:00:55.824862",
     "exception": false,
     "start_time": "2022-03-09T14:57:47.025184",
     "status": "completed"
    },
    "tags": []
   },
   "outputs": [
    {
     "name": "stderr",
     "output_type": "stream",
     "text": [
      "2022-03-09 14:57:47.268138: I tensorflow/stream_executor/cuda/cuda_gpu_executor.cc:937] successful NUMA node read from SysFS had negative value (-1), but there must be at least one NUMA node, so returning NUMA node zero\n",
      "2022-03-09 14:57:47.390290: I tensorflow/stream_executor/cuda/cuda_gpu_executor.cc:937] successful NUMA node read from SysFS had negative value (-1), but there must be at least one NUMA node, so returning NUMA node zero\n",
      "2022-03-09 14:57:47.391006: I tensorflow/stream_executor/cuda/cuda_gpu_executor.cc:937] successful NUMA node read from SysFS had negative value (-1), but there must be at least one NUMA node, so returning NUMA node zero\n",
      "2022-03-09 14:57:47.392096: I tensorflow/core/platform/cpu_feature_guard.cc:142] This TensorFlow binary is optimized with oneAPI Deep Neural Network Library (oneDNN) to use the following CPU instructions in performance-critical operations:  AVX2 AVX512F FMA\n",
      "To enable them in other operations, rebuild TensorFlow with the appropriate compiler flags.\n",
      "2022-03-09 14:57:47.393241: I tensorflow/stream_executor/cuda/cuda_gpu_executor.cc:937] successful NUMA node read from SysFS had negative value (-1), but there must be at least one NUMA node, so returning NUMA node zero\n",
      "2022-03-09 14:57:47.393982: I tensorflow/stream_executor/cuda/cuda_gpu_executor.cc:937] successful NUMA node read from SysFS had negative value (-1), but there must be at least one NUMA node, so returning NUMA node zero\n",
      "2022-03-09 14:57:47.394604: I tensorflow/stream_executor/cuda/cuda_gpu_executor.cc:937] successful NUMA node read from SysFS had negative value (-1), but there must be at least one NUMA node, so returning NUMA node zero\n",
      "2022-03-09 14:57:49.118275: I tensorflow/stream_executor/cuda/cuda_gpu_executor.cc:937] successful NUMA node read from SysFS had negative value (-1), but there must be at least one NUMA node, so returning NUMA node zero\n",
      "2022-03-09 14:57:49.119048: I tensorflow/stream_executor/cuda/cuda_gpu_executor.cc:937] successful NUMA node read from SysFS had negative value (-1), but there must be at least one NUMA node, so returning NUMA node zero\n",
      "2022-03-09 14:57:49.119777: I tensorflow/stream_executor/cuda/cuda_gpu_executor.cc:937] successful NUMA node read from SysFS had negative value (-1), but there must be at least one NUMA node, so returning NUMA node zero\n",
      "2022-03-09 14:57:49.120411: I tensorflow/core/common_runtime/gpu/gpu_device.cc:1510] Created device /job:localhost/replica:0/task:0/device:GPU:0 with 15403 MB memory:  -> device: 0, name: Tesla P100-PCIE-16GB, pci bus id: 0000:00:04.0, compute capability: 6.0\n"
     ]
    }
   ],
   "source": [
    "#xception\n",
    "xception0 = load_model('../input/models/balanced data/XCEPTION/Xception-f0-balanced.h5')\n",
    "xception1 = load_model('../input/models/balanced data/XCEPTION/Xception-f1-balanced.h5')\n",
    "xception2 = load_model('../input/models/balanced data/XCEPTION/Xception-f2-balanced.h5')\n",
    "xception3 = load_model('../input/models/balanced data/XCEPTION/Xception-f3-balanced.h5')\n",
    "xception4 = load_model('../input/models/balanced data/XCEPTION/Xception-f4-balanced.h5')\n",
    "\n",
    "#inceptionresnetv2\n",
    "inception0 = load_model('../input/models/balanced data/INCEPTIONRESNET/InceptionResNetV2-f0-balanced.h5')\n",
    "inception1 = load_model('../input/models/balanced data/INCEPTIONRESNET/InceptionResNetV2-f1-balanced.h5')\n",
    "inception2 = load_model('../input/models/balanced data/INCEPTIONRESNET/InceptionResNetV2-f2-balanced.h5')\n",
    "inception3 = load_model('../input/models/balanced data/INCEPTIONRESNET/InceptionResNetV2-f3-balanced.h5')\n",
    "inception4 = load_model('../input/models/balanced data/INCEPTIONRESNET/InceptionResNetV2-f4-balanced.h5')\n",
    "\n",
    "\n",
    "#nasnetmobile\n",
    "nasnet0 = load_model('../input/models/balanced data/NASNETMOBILE/NASNETMOBILE-f0-balanced.h5')\n",
    "nasnet1 = load_model('../input/models/balanced data/NASNETMOBILE/NASNETMOBILE-f1-balanced.h5')\n",
    "nasnet2 = load_model('../input/models/balanced data/NASNETMOBILE/NASNETMOBILE-f2-balanced.h5')\n",
    "nasnet3 = load_model('../input/models/balanced data/NASNETMOBILE/NASNETMOBILE-f3-balanced.h5')\n",
    "nasnet4 = load_model('../input/models/balanced data/NASNETMOBILE/NASNETMOBILE-f4-balanced.h5')\n",
    "\n",
    "#efficientnetb0\n",
    "eff0 = load_model('../input/models/balanced data/EFFICIENTNETB0/EfficientNetB0-f0-balanced.h5')\n",
    "eff1 = load_model('../input/models/balanced data/EFFICIENTNETB0/EfficientNetB0-f1-balanced.h5')\n",
    "eff2 = load_model('../input/models/balanced data/EFFICIENTNETB0/EfficientNetB0-f2-balanced.h5')\n",
    "eff3 = load_model('../input/models/balanced data/EFFICIENTNETB0/EfficientNetB0-f3-balanced.h5')\n",
    "eff4 = load_model('../input/models/balanced data/EFFICIENTNETB0/EfficientNetB0-f4-balanced.h5')\n"
   ]
  },
  {
   "cell_type": "code",
   "execution_count": 10,
   "id": "ce74020e",
   "metadata": {
    "execution": {
     "iopub.execute_input": "2022-03-09T15:00:55.855760Z",
     "iopub.status.busy": "2022-03-09T15:00:55.851978Z",
     "iopub.status.idle": "2022-03-09T21:55:44.897531Z",
     "shell.execute_reply": "2022-03-09T21:55:44.898015Z"
    },
    "papermill": {
     "duration": 24889.060567,
     "end_time": "2022-03-09T21:55:44.898176",
     "exception": false,
     "start_time": "2022-03-09T15:00:55.837609",
     "status": "completed"
    },
    "tags": []
   },
   "outputs": [
    {
     "name": "stderr",
     "output_type": "stream",
     "text": [
      "2022-03-09 15:00:55.949572: I tensorflow/compiler/mlir/mlir_graph_optimization_pass.cc:185] None of the MLIR Optimization Passes are enabled (registered 2)\n",
      "2022-03-09 15:00:57.646559: I tensorflow/stream_executor/cuda/cuda_dnn.cc:369] Loaded cuDNN version 8005\n"
     ]
    },
    {
     "name": "stdout",
     "output_type": "stream",
     "text": [
      "------------------Xception---------------------\n",
      "\n",
      "FOLD 0:  0.2756269041481134\n",
      "FOLD 1:  0.3401921724865245\n",
      "FOLD 2:  0.4979142254511366\n",
      "FOLD 3:  0.31078040778064214\n",
      "FOLD 4:  0.5456526833841107\n",
      "ENSEMBLE:  0.4835715959690649\n",
      "\n",
      "\n",
      "\n",
      "------------------InceptionResNetV2---------------------\n",
      "\n",
      "FOLD 0:  0.2610030466369815\n",
      "FOLD 1:  0.2541129599250059\n",
      "FOLD 2:  0.27147879071947506\n",
      "FOLD 3:  0.1567611905319897\n",
      "FOLD 4:  0.2136161237403328\n",
      "ENSEMBLE:  0.2618467307241622\n",
      "\n",
      "\n",
      "\n",
      "------------------NasNetMobile---------------------\n",
      "\n",
      "FOLD 0:  0.07574408249355519\n",
      "FOLD 1:  0.45411295992500583\n",
      "FOLD 2:  0.29557065854230136\n",
      "FOLD 3:  0.20063276306538552\n",
      "FOLD 4:  0.19657839231310054\n",
      "ENSEMBLE:  0.3093039606280759\n",
      "\n",
      "\n",
      "\n",
      "------------------EfficientNetB0---------------------\n",
      "\n",
      "FOLD 0:  0.022896648699320364\n",
      "FOLD 1:  0.02263885633934849\n",
      "FOLD 2:  0.02263885633934849\n",
      "FOLD 3:  0.14710569486758848\n",
      "FOLD 4:  0.022896648699320364\n",
      "ENSEMBLE:  0.022896648699320364\n",
      "\n",
      "\n",
      "\n"
     ]
    }
   ],
   "source": [
    "xception = [xception0,xception1,xception2,xception3,xception4]\n",
    "xception = test_models('Xception',xception)\n",
    "\n",
    "inception = [inception0,inception1,inception2,inception3,inception4]\n",
    "inception = test_models('InceptionResNetV2', inception)\n",
    "\n",
    "nasnet = [nasnet0,nasnet1,nasnet2,nasnet3,nasnet4]\n",
    "nasnet = test_models('NasNetMobile', nasnet)\n",
    "\n",
    "eff = [eff0,eff1,eff2,eff3,eff4]\n",
    "eff = test_models('EfficientNetB0', eff)"
   ]
  },
  {
   "cell_type": "code",
   "execution_count": null,
   "id": "2f5a01c1",
   "metadata": {
    "papermill": {
     "duration": 0.015818,
     "end_time": "2022-03-09T21:55:44.930371",
     "exception": false,
     "start_time": "2022-03-09T21:55:44.914553",
     "status": "completed"
    },
    "tags": []
   },
   "outputs": [],
   "source": []
  }
 ],
 "metadata": {
  "kernelspec": {
   "display_name": "Python 3",
   "language": "python",
   "name": "python3"
  },
  "language_info": {
   "codemirror_mode": {
    "name": "ipython",
    "version": 3
   },
   "file_extension": ".py",
   "mimetype": "text/x-python",
   "name": "python",
   "nbconvert_exporter": "python",
   "pygments_lexer": "ipython3",
   "version": "3.7.12"
  },
  "papermill": {
   "default_parameters": {},
   "duration": 25206.706186,
   "end_time": "2022-03-09T21:55:48.553756",
   "environment_variables": {},
   "exception": null,
   "input_path": "__notebook__.ipynb",
   "output_path": "__notebook__.ipynb",
   "parameters": {},
   "start_time": "2022-03-09T14:55:41.847570",
   "version": "2.3.3"
  }
 },
 "nbformat": 4,
 "nbformat_minor": 5
}
