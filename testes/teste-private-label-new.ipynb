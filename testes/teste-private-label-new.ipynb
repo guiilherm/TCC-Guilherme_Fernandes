{
 "cells": [
  {
   "cell_type": "code",
   "execution_count": 1,
   "id": "6f0d0756",
   "metadata": {
    "_cell_guid": "b1076dfc-b9ad-4769-8c92-a6c4dae69d19",
    "_uuid": "8f2839f25d086af736a60e9eeb907d3b93b6e0e5",
    "execution": {
     "iopub.execute_input": "2022-03-09T14:52:20.161244Z",
     "iopub.status.busy": "2022-03-09T14:52:20.159748Z",
     "iopub.status.idle": "2022-03-09T14:52:26.372002Z",
     "shell.execute_reply": "2022-03-09T14:52:26.370937Z",
     "shell.execute_reply.started": "2022-03-08T00:35:02.091271Z"
    },
    "papermill": {
     "duration": 6.228252,
     "end_time": "2022-03-09T14:52:26.372286",
     "exception": false,
     "start_time": "2022-03-09T14:52:20.144034",
     "status": "completed"
    },
    "tags": []
   },
   "outputs": [],
   "source": [
    "import os\n",
    "import cv2\n",
    "import warnings\n",
    "import numpy as np\n",
    "import pandas as pd\n",
    "from tqdm import tqdm\n",
    "import seaborn as sns\n",
    "import matplotlib.pyplot as plt\n",
    "from sklearn.metrics import confusion_matrix, cohen_kappa_score\n",
    "from keras_preprocessing.image import ImageDataGenerator\n",
    "from keras.callbacks import EarlyStopping\n",
    "from keras.layers import Dense, Dropout, GlobalAveragePooling2D, Input\n",
    "from keras import optimizers, applications\n",
    "from keras.models import Sequential\n",
    "import tensorflow as tf\n",
    "from tensorflow.keras.preprocessing.image import ImageDataGenerator\n",
    "from keras.models import load_model\n",
    "\n",
    "import keras.backend as K\n",
    "\n",
    "%matplotlib inline\n",
    "sns.set(style='whitegrid')\n",
    "warnings.filterwarnings('ignore')"
   ]
  },
  {
   "cell_type": "code",
   "execution_count": 2,
   "id": "a3420ae5",
   "metadata": {
    "execution": {
     "iopub.execute_input": "2022-03-09T14:52:26.398386Z",
     "iopub.status.busy": "2022-03-09T14:52:26.397691Z",
     "iopub.status.idle": "2022-03-09T14:52:26.476581Z",
     "shell.execute_reply": "2022-03-09T14:52:26.475985Z",
     "shell.execute_reply.started": "2022-03-08T00:35:33.725625Z"
    },
    "papermill": {
     "duration": 0.092748,
     "end_time": "2022-03-09T14:52:26.476716",
     "exception": false,
     "start_time": "2022-03-09T14:52:26.383968",
     "status": "completed"
    },
    "tags": []
   },
   "outputs": [
    {
     "data": {
      "text/plain": [
       "(53576, 3)"
      ]
     },
     "execution_count": 2,
     "metadata": {},
     "output_type": "execute_result"
    }
   ],
   "source": [
    "test = pd.read_csv('../input/resized-2015-2019-blindness-detection-images/labels/testLabels15.csv')\n",
    "test.shape"
   ]
  },
  {
   "cell_type": "code",
   "execution_count": 3,
   "id": "71ba9fcd",
   "metadata": {
    "execution": {
     "iopub.execute_input": "2022-03-09T14:52:26.515014Z",
     "iopub.status.busy": "2022-03-09T14:52:26.514183Z",
     "iopub.status.idle": "2022-03-09T14:52:26.521636Z",
     "shell.execute_reply": "2022-03-09T14:52:26.522263Z",
     "shell.execute_reply.started": "2022-03-08T00:36:05.80332Z"
    },
    "papermill": {
     "duration": 0.034618,
     "end_time": "2022-03-09T14:52:26.522413",
     "exception": false,
     "start_time": "2022-03-09T14:52:26.487795",
     "status": "completed"
    },
    "tags": []
   },
   "outputs": [],
   "source": [
    "#select only Private Label\n",
    "test = test[test['Usage'] == 'Private']"
   ]
  },
  {
   "cell_type": "code",
   "execution_count": 4,
   "id": "4e91d859",
   "metadata": {
    "execution": {
     "iopub.execute_input": "2022-03-09T14:52:26.548431Z",
     "iopub.status.busy": "2022-03-09T14:52:26.547608Z",
     "iopub.status.idle": "2022-03-09T14:52:26.550949Z",
     "shell.execute_reply": "2022-03-09T14:52:26.550442Z",
     "shell.execute_reply.started": "2022-03-08T00:36:14.474611Z"
    },
    "papermill": {
     "duration": 0.017759,
     "end_time": "2022-03-09T14:52:26.551054",
     "exception": false,
     "start_time": "2022-03-09T14:52:26.533295",
     "status": "completed"
    },
    "tags": []
   },
   "outputs": [
    {
     "data": {
      "text/plain": [
       "(42670, 3)"
      ]
     },
     "execution_count": 4,
     "metadata": {},
     "output_type": "execute_result"
    }
   ],
   "source": [
    "test.shape"
   ]
  },
  {
   "cell_type": "code",
   "execution_count": 5,
   "id": "b6d21558",
   "metadata": {
    "execution": {
     "iopub.execute_input": "2022-03-09T14:52:26.591468Z",
     "iopub.status.busy": "2022-03-09T14:52:26.590616Z",
     "iopub.status.idle": "2022-03-09T14:52:26.592539Z",
     "shell.execute_reply": "2022-03-09T14:52:26.592985Z",
     "shell.execute_reply.started": "2022-03-08T00:36:49.272097Z"
    },
    "papermill": {
     "duration": 0.031199,
     "end_time": "2022-03-09T14:52:26.593122",
     "exception": false,
     "start_time": "2022-03-09T14:52:26.561923",
     "status": "completed"
    },
    "tags": []
   },
   "outputs": [],
   "source": [
    "test['image'] = test['image'].apply(lambda x: x + '.jpg')"
   ]
  },
  {
   "cell_type": "markdown",
   "id": "08e31580",
   "metadata": {
    "execution": {
     "iopub.execute_input": "2022-02-22T18:22:41.446819Z",
     "iopub.status.busy": "2022-02-22T18:22:41.44591Z",
     "iopub.status.idle": "2022-02-22T18:22:41.451183Z",
     "shell.execute_reply": "2022-02-22T18:22:41.450679Z",
     "shell.execute_reply.started": "2022-02-22T18:22:41.446778Z"
    },
    "papermill": {
     "duration": 0.011595,
     "end_time": "2022-03-09T14:52:26.616618",
     "exception": false,
     "start_time": "2022-03-09T14:52:26.605023",
     "status": "completed"
    },
    "tags": []
   },
   "source": [
    "### Found imagens in dataset 2015"
   ]
  },
  {
   "cell_type": "code",
   "execution_count": 6,
   "id": "fa954804",
   "metadata": {
    "execution": {
     "iopub.execute_input": "2022-03-09T14:52:26.645965Z",
     "iopub.status.busy": "2022-03-09T14:52:26.644811Z",
     "iopub.status.idle": "2022-03-09T14:54:34.717976Z",
     "shell.execute_reply": "2022-03-09T14:54:34.718671Z",
     "shell.execute_reply.started": "2022-03-08T00:37:11.564978Z"
    },
    "papermill": {
     "duration": 128.090612,
     "end_time": "2022-03-09T14:54:34.718886",
     "exception": false,
     "start_time": "2022-03-09T14:52:26.628274",
     "status": "completed"
    },
    "tags": []
   },
   "outputs": [
    {
     "name": "stdout",
     "output_type": "stream",
     "text": [
      "Found 42670 validated image filenames.\n"
     ]
    }
   ],
   "source": [
    "test_datagen = ImageDataGenerator(rescale=1./255)\n",
    "\n",
    "test_generator = test_datagen.flow_from_dataframe(\n",
    "    dataframe = test,\n",
    "    directory = '../input/resized-2015-2019-blindness-detection-images/resized test 15',\n",
    "    x_col = 'image',\n",
    "    y_col= 'level',\n",
    "    target_size = (224,224),\n",
    "    batch_size = 1,\n",
    "    shuffle = False,\n",
    "    class_mode = None\n",
    ")"
   ]
  },
  {
   "cell_type": "code",
   "execution_count": 7,
   "id": "7b474701",
   "metadata": {
    "execution": {
     "iopub.execute_input": "2022-03-09T14:54:34.761402Z",
     "iopub.status.busy": "2022-03-09T14:54:34.760529Z",
     "iopub.status.idle": "2022-03-09T14:54:34.762747Z",
     "shell.execute_reply": "2022-03-09T14:54:34.762091Z",
     "shell.execute_reply.started": "2022-03-08T00:40:09.121175Z"
    },
    "papermill": {
     "duration": 0.025795,
     "end_time": "2022-03-09T14:54:34.762898",
     "exception": false,
     "start_time": "2022-03-09T14:54:34.737103",
     "status": "completed"
    },
    "tags": []
   },
   "outputs": [],
   "source": [
    "step_size = test_generator.n // test_generator.batch_size"
   ]
  },
  {
   "cell_type": "code",
   "execution_count": 8,
   "id": "f0651a14",
   "metadata": {
    "execution": {
     "iopub.execute_input": "2022-03-09T14:54:34.810805Z",
     "iopub.status.busy": "2022-03-09T14:54:34.810008Z",
     "iopub.status.idle": "2022-03-09T14:54:34.826670Z",
     "shell.execute_reply": "2022-03-09T14:54:34.827233Z",
     "shell.execute_reply.started": "2022-03-08T00:00:26.3675Z"
    },
    "papermill": {
     "duration": 0.046156,
     "end_time": "2022-03-09T14:54:34.827412",
     "exception": false,
     "start_time": "2022-03-09T14:54:34.781256",
     "status": "completed"
    },
    "tags": []
   },
   "outputs": [],
   "source": [
    "def test_models(model_name,models):\n",
    "    \n",
    "    preds_tta0 = []\n",
    "    preds_tta1 = []\n",
    "    preds_tta2 = []\n",
    "    preds_tta3 = []\n",
    "    preds_tta4 = []\n",
    "    preds = []\n",
    "\n",
    "        #model fold 0\n",
    "    test_generator.reset()\n",
    "    preds0 = models[0].predict_generator(generator=test_generator, steps=step_size)\n",
    "    preds_tta0.append(preds0)\n",
    "\n",
    "    #model fold 1\n",
    "    test_generator.reset()\n",
    "    preds1 = models[1].predict_generator(generator=test_generator, steps=step_size)\n",
    "    preds_tta1.append(preds1)\n",
    "\n",
    "        #model fold 2\n",
    "    test_generator.reset()\n",
    "    preds2 = models[2].predict_generator(generator=test_generator, steps=step_size)\n",
    "    preds_tta2.append(preds2)\n",
    "\n",
    "        #model fold 3\n",
    "    test_generator.reset()\n",
    "    preds3 = models[3].predict_generator(generator=test_generator, steps=step_size)\n",
    "    preds_tta3.append(preds3)\n",
    "\n",
    "        #model fold 4\n",
    "    test_generator.reset()\n",
    "    preds4 = models[4].predict_generator(generator=test_generator, steps=step_size)\n",
    "    preds_tta4.append(preds4)\n",
    "    \n",
    "    print('------------------{}---------------------\\n'.format(model_name))\n",
    "\n",
    "    preds0 = sum(preds_tta0)\n",
    "    preds1 = sum(preds_tta1)\n",
    "    preds2 = sum(preds_tta2)\n",
    "    preds3 = sum(preds_tta3)\n",
    "    preds4 = sum(preds_tta4)\n",
    "\n",
    "    filenames = test_generator.filenames\n",
    "    \n",
    "    results=pd.DataFrame({\"id_code\":filenames,\n",
    "                      'level':test.level,\n",
    "                        'pred0':preds0.argmax(axis=1),\n",
    "                        'pred1':preds1.argmax(axis=1),\n",
    "                        'pred2':preds2.argmax(axis=1),\n",
    "                        'pred3':preds3.argmax(axis=1),\n",
    "                        'pred4':preds4.argmax(axis=1)})    \n",
    "\n",
    "    print('FOLD 0: ',np.mean(np.equal(results.pred0, test['level'])))\n",
    "    print('FOLD 1: ',np.mean(np.equal(results.pred1, test['level'])))\n",
    "    print('FOLD 2: ',np.mean(np.equal(results.pred2, test['level'])))\n",
    "    print('FOLD 3: ',np.mean(np.equal(results.pred3, test['level'])))\n",
    "    print('FOLD 4: ',np.mean(np.equal(results.pred4, test['level'])))\n",
    "    \n",
    "    print('ENSEMBLE: ',np.mean(np.equal(results[['pred0','pred1','pred2','pred3','pred4']].mode(axis=1)[0], test['level'])))\n",
    "    print('\\n\\n')\n",
    "    return results"
   ]
  },
  {
   "cell_type": "code",
   "execution_count": 9,
   "id": "266fd56e",
   "metadata": {
    "execution": {
     "iopub.execute_input": "2022-03-09T14:54:34.868590Z",
     "iopub.status.busy": "2022-03-09T14:54:34.868017Z",
     "iopub.status.idle": "2022-03-09T14:57:01.258519Z",
     "shell.execute_reply": "2022-03-09T14:57:01.258962Z"
    },
    "papermill": {
     "duration": 146.41321,
     "end_time": "2022-03-09T14:57:01.259141",
     "exception": false,
     "start_time": "2022-03-09T14:54:34.845931",
     "status": "completed"
    },
    "tags": []
   },
   "outputs": [
    {
     "name": "stderr",
     "output_type": "stream",
     "text": [
      "2022-03-09 14:54:35.103522: I tensorflow/stream_executor/cuda/cuda_gpu_executor.cc:937] successful NUMA node read from SysFS had negative value (-1), but there must be at least one NUMA node, so returning NUMA node zero\n",
      "2022-03-09 14:54:35.199623: I tensorflow/stream_executor/cuda/cuda_gpu_executor.cc:937] successful NUMA node read from SysFS had negative value (-1), but there must be at least one NUMA node, so returning NUMA node zero\n",
      "2022-03-09 14:54:35.200361: I tensorflow/stream_executor/cuda/cuda_gpu_executor.cc:937] successful NUMA node read from SysFS had negative value (-1), but there must be at least one NUMA node, so returning NUMA node zero\n",
      "2022-03-09 14:54:35.201606: I tensorflow/core/platform/cpu_feature_guard.cc:142] This TensorFlow binary is optimized with oneAPI Deep Neural Network Library (oneDNN) to use the following CPU instructions in performance-critical operations:  AVX2 AVX512F FMA\n",
      "To enable them in other operations, rebuild TensorFlow with the appropriate compiler flags.\n",
      "2022-03-09 14:54:35.202999: I tensorflow/stream_executor/cuda/cuda_gpu_executor.cc:937] successful NUMA node read from SysFS had negative value (-1), but there must be at least one NUMA node, so returning NUMA node zero\n",
      "2022-03-09 14:54:35.203703: I tensorflow/stream_executor/cuda/cuda_gpu_executor.cc:937] successful NUMA node read from SysFS had negative value (-1), but there must be at least one NUMA node, so returning NUMA node zero\n",
      "2022-03-09 14:54:35.204352: I tensorflow/stream_executor/cuda/cuda_gpu_executor.cc:937] successful NUMA node read from SysFS had negative value (-1), but there must be at least one NUMA node, so returning NUMA node zero\n",
      "2022-03-09 14:54:36.957653: I tensorflow/stream_executor/cuda/cuda_gpu_executor.cc:937] successful NUMA node read from SysFS had negative value (-1), but there must be at least one NUMA node, so returning NUMA node zero\n",
      "2022-03-09 14:54:36.958476: I tensorflow/stream_executor/cuda/cuda_gpu_executor.cc:937] successful NUMA node read from SysFS had negative value (-1), but there must be at least one NUMA node, so returning NUMA node zero\n",
      "2022-03-09 14:54:36.959155: I tensorflow/stream_executor/cuda/cuda_gpu_executor.cc:937] successful NUMA node read from SysFS had negative value (-1), but there must be at least one NUMA node, so returning NUMA node zero\n",
      "2022-03-09 14:54:36.959742: I tensorflow/core/common_runtime/gpu/gpu_device.cc:1510] Created device /job:localhost/replica:0/task:0/device:GPU:0 with 15403 MB memory:  -> device: 0, name: Tesla P100-PCIE-16GB, pci bus id: 0000:00:04.0, compute capability: 6.0\n"
     ]
    }
   ],
   "source": [
    "#xception\n",
    "xception0 = load_model('../input/models/new data/XCEPTION/Xception-f0-new.h5')\n",
    "xception1 = load_model('../input/models/new data/XCEPTION/Xception-f1-new.h5')\n",
    "xception2 = load_model('../input/models/new data/XCEPTION/Xception-f2-new.h5')\n",
    "xception3 = load_model('../input/models/new data/XCEPTION/Xception-f3-new.h5')\n",
    "xception4 = load_model('../input/models/new data/XCEPTION/Xception-f4-new.h5')\n",
    "\n",
    "#inceptionresnetv2\n",
    "inception0 = load_model('../input/models/new data/INCEPTIONRESNET/InceptionResNetV2-f0-new.h5')\n",
    "inception1 = load_model('../input/models/new data/INCEPTIONRESNET/InceptionResNetV2-f1-new.h5')\n",
    "inception2 = load_model('../input/models/new data/INCEPTIONRESNET/InceptionResNetV2-f2-new.h5')\n",
    "inception3 = load_model('../input/models/new data/INCEPTIONRESNET/InceptionResNetV2-f3-new.h5')\n",
    "inception4 = load_model('../input/models/new data/INCEPTIONRESNET/InceptionResNetV2-f4-new.h5')\n",
    "\n",
    "\n",
    "#nasnetmobile\n",
    "nasnet0 = load_model('../input/models/new data/NASNETMOBILE/NASNETMOBILE-f0-new.h5')\n",
    "nasnet1 = load_model('../input/models/new data/NASNETMOBILE/NASNETMOBILE-f1-new.h5')\n",
    "nasnet2 = load_model('../input/models/new data/NASNETMOBILE/NASNETMOBILE-f2-new.h5')\n",
    "nasnet3 = load_model('../input/models/new data/NASNETMOBILE/NASNETMOBILE-f3-new.h5')\n",
    "nasnet4 = load_model('../input/models/new data/NASNETMOBILE/NASNETMOBILE-f4-new.h5')\n",
    "\n",
    "#efficientnetb0\n",
    "eff0 = load_model('../input/models/new data/EFFICIENTNETB0/EfficientNetB0-f0-new.h5')\n",
    "eff1 = load_model('../input/models/new data/EFFICIENTNETB0/EfficientNetB0-f1-new.h5')\n",
    "eff2 = load_model('../input/models/new data/EFFICIENTNETB0/EfficientNetB0-f2-new.h5')\n",
    "eff3 = load_model('../input/models/new data/EFFICIENTNETB0/EfficientNetB0-f3-new.h5')\n",
    "eff4 = load_model('../input/models/new data/EFFICIENTNETB0/EfficientNetB0-f4-new.h5')\n"
   ]
  },
  {
   "cell_type": "code",
   "execution_count": 10,
   "id": "70d61fcf",
   "metadata": {
    "execution": {
     "iopub.execute_input": "2022-03-09T14:57:01.289979Z",
     "iopub.status.busy": "2022-03-09T14:57:01.289184Z",
     "iopub.status.idle": "2022-03-09T21:24:24.193815Z",
     "shell.execute_reply": "2022-03-09T21:24:24.194295Z"
    },
    "papermill": {
     "duration": 23242.922624,
     "end_time": "2022-03-09T21:24:24.194471",
     "exception": false,
     "start_time": "2022-03-09T14:57:01.271847",
     "status": "completed"
    },
    "tags": []
   },
   "outputs": [
    {
     "name": "stderr",
     "output_type": "stream",
     "text": [
      "2022-03-09 14:57:01.387989: I tensorflow/compiler/mlir/mlir_graph_optimization_pass.cc:185] None of the MLIR Optimization Passes are enabled (registered 2)\n",
      "2022-03-09 14:57:02.740950: I tensorflow/stream_executor/cuda/cuda_dnn.cc:369] Loaded cuDNN version 8005\n"
     ]
    },
    {
     "name": "stdout",
     "output_type": "stream",
     "text": [
      "------------------Xception---------------------\n",
      "\n",
      "FOLD 0:  0.5117178345441762\n",
      "FOLD 1:  0.6000937426763534\n",
      "FOLD 2:  0.4785329271150691\n",
      "FOLD 3:  0.4524255917506445\n",
      "FOLD 4:  0.5247011952191235\n",
      "ENSEMBLE:  0.5769158659479728\n",
      "\n",
      "\n",
      "\n",
      "------------------InceptionResNetV2---------------------\n",
      "\n",
      "FOLD 0:  0.6465901101476447\n",
      "FOLD 1:  0.1806187016639325\n",
      "FOLD 2:  0.3456526833841106\n",
      "FOLD 3:  0.15198031403796577\n",
      "FOLD 4:  0.4685727677525193\n",
      "ENSEMBLE:  0.45045699554722285\n",
      "\n",
      "\n",
      "\n",
      "------------------NasNetMobile---------------------\n",
      "\n",
      "FOLD 0:  0.2414108272791188\n",
      "FOLD 1:  0.5149519568783689\n",
      "FOLD 2:  0.5618701663932505\n",
      "FOLD 3:  0.5325287086946332\n",
      "FOLD 4:  0.3428638387625967\n",
      "ENSEMBLE:  0.46508085305835484\n",
      "\n",
      "\n",
      "\n",
      "------------------EfficientNetB0---------------------\n",
      "\n",
      "FOLD 0:  0.7359503163815327\n",
      "FOLD 1:  0.7359503163815327\n",
      "FOLD 2:  0.7359503163815327\n",
      "FOLD 3:  0.7359503163815327\n",
      "FOLD 4:  0.7359503163815327\n",
      "ENSEMBLE:  0.7359503163815327\n",
      "\n",
      "\n",
      "\n"
     ]
    }
   ],
   "source": [
    "xception = [xception0,xception1,xception2,xception3,xception4]\n",
    "xception = test_models('Xception',xception)\n",
    "\n",
    "inception = [inception0,inception1,inception2,inception3,inception4]\n",
    "inception = test_models('InceptionResNetV2', inception)\n",
    "\n",
    "nasnet = [nasnet0,nasnet1,nasnet2,nasnet3,nasnet4]\n",
    "nasnet = test_models('NasNetMobile', nasnet)\n",
    "\n",
    "eff = [eff0,eff1,eff2,eff3,eff4]\n",
    "eff = test_models('EfficientNetB0', eff)"
   ]
  },
  {
   "cell_type": "code",
   "execution_count": null,
   "id": "b845b49b",
   "metadata": {
    "papermill": {
     "duration": 0.015005,
     "end_time": "2022-03-09T21:24:24.224953",
     "exception": false,
     "start_time": "2022-03-09T21:24:24.209948",
     "status": "completed"
    },
    "tags": []
   },
   "outputs": [],
   "source": []
  }
 ],
 "metadata": {
  "kernelspec": {
   "display_name": "Python 3",
   "language": "python",
   "name": "python3"
  },
  "language_info": {
   "codemirror_mode": {
    "name": "ipython",
    "version": 3
   },
   "file_extension": ".py",
   "mimetype": "text/x-python",
   "name": "python",
   "nbconvert_exporter": "python",
   "pygments_lexer": "ipython3",
   "version": "3.7.12"
  },
  "papermill": {
   "default_parameters": {},
   "duration": 23535.876983,
   "end_time": "2022-03-09T21:24:27.891322",
   "environment_variables": {},
   "exception": null,
   "input_path": "__notebook__.ipynb",
   "output_path": "__notebook__.ipynb",
   "parameters": {},
   "start_time": "2022-03-09T14:52:12.014339",
   "version": "2.3.3"
  }
 },
 "nbformat": 4,
 "nbformat_minor": 5
}
